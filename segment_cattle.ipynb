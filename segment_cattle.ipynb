{
  "nbformat": 4,
  "nbformat_minor": 0,
  "metadata": {
    "colab": {
      "provenance": [],
      "authorship_tag": "ABX9TyNI7fttvhn3C+fG7FITPGP6",
      "include_colab_link": true
    },
    "kernelspec": {
      "name": "python3",
      "display_name": "Python 3"
    },
    "language_info": {
      "name": "python"
    }
  },
  "cells": [
    {
      "cell_type": "markdown",
      "metadata": {
        "id": "view-in-github",
        "colab_type": "text"
      },
      "source": [
        "<a href=\"https://colab.research.google.com/github/zjdesj/segmentation-3D/blob/master/segment_cattle.ipynb\" target=\"_parent\"><img src=\"https://colab.research.google.com/assets/colab-badge.svg\" alt=\"Open In Colab\"/></a>"
      ]
    },
    {
      "cell_type": "code",
      "execution_count": null,
      "metadata": {
        "id": "OzOY6eHGdsns"
      },
      "outputs": [],
      "source": [
        "# SAM model\n",
        "!wget https://dl.fbaipublicfiles.com/segment_anything/sam_vit_h_4b8939.pth"
      ]
    },
    {
      "cell_type": "code",
      "source": [
        "# python包\n",
        "!pip install git+https://github.com/facebookresearch/segment-anything.git"
      ],
      "metadata": {
        "id": "1kdv4xS2d4iz"
      },
      "execution_count": null,
      "outputs": []
    },
    {
      "cell_type": "code",
      "source": [
        "# python代码\n",
        "!wget https://github.com/zjdesj/segmentation-3D/raw/master/annotate/segment-anything.py\n",
        "!wget https://github.com/zjdesj/segmentation-3D/raw/master/annotate/readXML.py"
      ],
      "metadata": {
        "id": "l8GpT1Dwe_Kx"
      },
      "execution_count": null,
      "outputs": []
    },
    {
      "cell_type": "code",
      "source": [
        "# 无提示全图分割使用方式：\n",
        "!python segment-anything.py --input {自定义输入路径} --output {自定义输出路径}"
      ],
      "metadata": {
        "id": "SgsO4uaxfPoX"
      },
      "execution_count": null,
      "outputs": []
    },
    {
      "cell_type": "code",
      "source": [
        "# 使用bounding box作为prompt 分割 使用方式：\n",
        "!python segment-anything.py --input {自定义输入路径} --output {自定义输出路径} --label {XML文件地址}"
      ],
      "metadata": {
        "id": "ird_9AESNvJT"
      },
      "execution_count": null,
      "outputs": []
    },
    {
      "cell_type": "code",
      "source": [
        "# 压缩下载到本地距离\n",
        "import os\n",
        "os.chdir('/content/images6/')\n",
        "!zip images.zip -r /content/images6/*\n",
        "\n",
        "from google.colab import files\n",
        "files.download('/content/images6/images.zip')"
      ],
      "metadata": {
        "id": "XSQIzYx6flL_"
      },
      "execution_count": null,
      "outputs": []
    }
  ]
}